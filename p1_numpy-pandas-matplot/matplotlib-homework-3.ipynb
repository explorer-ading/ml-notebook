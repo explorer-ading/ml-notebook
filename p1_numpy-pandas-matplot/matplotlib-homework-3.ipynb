{
 "cells": [
  {
   "cell_type": "code",
   "execution_count": 1,
   "metadata": {},
   "outputs": [],
   "source": [
    "%matplotlib inline\n",
    "import matplotlib as mpl\n",
    "from matplotlib import pyplot as plt\n",
    "import seaborn as sns"
   ]
  },
  {
   "cell_type": "markdown",
   "metadata": {},
   "source": [
    "# 练习3：餐厅小费情况分析\n",
    "* 小费和总消费之间的关系（散点图）\n",
    "* 男性顾客和女性顾客，谁更慷慨（分类箱式图）\n",
    "* 抽烟与否是否会对小费金额产生影响（分类箱式图）\n",
    "* 工作日和周末，什么时候顾客给的小费更慷慨（分类箱式图）\n",
    "* 午饭和晚饭，哪一顿顾客更愿意给小费（分类箱式图）\n",
    "* 就餐人数是否会对慷慨度产生影响（分类箱式图）\n",
    "* 性别+抽烟的组合因素对慷慨度的影响（分组柱状图）\n"
   ]
  },
  {
   "cell_type": "code",
   "execution_count": 2,
   "metadata": {},
   "outputs": [
    {
     "data": {
      "text/html": [
       "<div>\n",
       "<style scoped>\n",
       "    .dataframe tbody tr th:only-of-type {\n",
       "        vertical-align: middle;\n",
       "    }\n",
       "\n",
       "    .dataframe tbody tr th {\n",
       "        vertical-align: top;\n",
       "    }\n",
       "\n",
       "    .dataframe thead th {\n",
       "        text-align: right;\n",
       "    }\n",
       "</style>\n",
       "<table border=\"1\" class=\"dataframe\">\n",
       "  <thead>\n",
       "    <tr style=\"text-align: right;\">\n",
       "      <th></th>\n",
       "      <th>total_bill</th>\n",
       "      <th>tip</th>\n",
       "      <th>sex</th>\n",
       "      <th>smoker</th>\n",
       "      <th>day</th>\n",
       "      <th>time</th>\n",
       "      <th>size</th>\n",
       "    </tr>\n",
       "  </thead>\n",
       "  <tbody>\n",
       "    <tr>\n",
       "      <th>0</th>\n",
       "      <td>16.99</td>\n",
       "      <td>1.01</td>\n",
       "      <td>Female</td>\n",
       "      <td>No</td>\n",
       "      <td>Sun</td>\n",
       "      <td>Dinner</td>\n",
       "      <td>2</td>\n",
       "    </tr>\n",
       "    <tr>\n",
       "      <th>1</th>\n",
       "      <td>10.34</td>\n",
       "      <td>1.66</td>\n",
       "      <td>Male</td>\n",
       "      <td>No</td>\n",
       "      <td>Sun</td>\n",
       "      <td>Dinner</td>\n",
       "      <td>3</td>\n",
       "    </tr>\n",
       "    <tr>\n",
       "      <th>2</th>\n",
       "      <td>21.01</td>\n",
       "      <td>3.50</td>\n",
       "      <td>Male</td>\n",
       "      <td>No</td>\n",
       "      <td>Sun</td>\n",
       "      <td>Dinner</td>\n",
       "      <td>3</td>\n",
       "    </tr>\n",
       "    <tr>\n",
       "      <th>3</th>\n",
       "      <td>23.68</td>\n",
       "      <td>3.31</td>\n",
       "      <td>Male</td>\n",
       "      <td>No</td>\n",
       "      <td>Sun</td>\n",
       "      <td>Dinner</td>\n",
       "      <td>2</td>\n",
       "    </tr>\n",
       "    <tr>\n",
       "      <th>4</th>\n",
       "      <td>24.59</td>\n",
       "      <td>3.61</td>\n",
       "      <td>Female</td>\n",
       "      <td>No</td>\n",
       "      <td>Sun</td>\n",
       "      <td>Dinner</td>\n",
       "      <td>4</td>\n",
       "    </tr>\n",
       "  </tbody>\n",
       "</table>\n",
       "</div>"
      ],
      "text/plain": [
       "   total_bill   tip     sex smoker  day    time  size\n",
       "0       16.99  1.01  Female     No  Sun  Dinner     2\n",
       "1       10.34  1.66    Male     No  Sun  Dinner     3\n",
       "2       21.01  3.50    Male     No  Sun  Dinner     3\n",
       "3       23.68  3.31    Male     No  Sun  Dinner     2\n",
       "4       24.59  3.61  Female     No  Sun  Dinner     4"
      ]
     },
     "execution_count": 2,
     "metadata": {},
     "output_type": "execute_result"
    }
   ],
   "source": [
    "data = sns.load_dataset(\"tips\")\n",
    "data.head()\n",
    "# 总消费，小费，性别，吸烟与否，就餐星期，就餐时间，就餐人数"
   ]
  },
  {
   "cell_type": "code",
   "execution_count": 4,
   "metadata": {},
   "outputs": [
    {
     "name": "stdout",
     "output_type": "stream",
     "text": [
      "Help on function load_dataset in module seaborn.utils:\n",
      "\n",
      "load_dataset(name, cache=True, data_home=None, **kws)\n",
      "    Load a dataset from the online repository (requires internet).\n",
      "    \n",
      "    Parameters\n",
      "    ----------\n",
      "    name : str\n",
      "        Name of the dataset (`name`.csv on\n",
      "        https://github.com/mwaskom/seaborn-data).  You can obtain list of\n",
      "        available datasets using :func:`get_dataset_names`\n",
      "    cache : boolean, optional\n",
      "        If True, then cache data locally and use the cache on subsequent calls\n",
      "    data_home : string, optional\n",
      "        The directory in which to cache data. By default, uses ~/seaborn-data/\n",
      "    kws : dict, optional\n",
      "        Passed to pandas.read_csv\n",
      "\n"
     ]
    }
   ],
   "source": [
    "help(sns.load_dataset)"
   ]
  },
  {
   "cell_type": "code",
   "execution_count": 3,
   "metadata": {},
   "outputs": [],
   "source": [
    "import numpy as np\n",
    "import pandas as pd"
   ]
  },
  {
   "cell_type": "code",
   "execution_count": 4,
   "metadata": {},
   "outputs": [
    {
     "data": {
      "text/plain": [
       "<matplotlib.collections.PathCollection at 0x1218f6f28>"
      ]
     },
     "execution_count": 4,
     "metadata": {},
     "output_type": "execute_result"
    },
    {
     "data": {
      "image/png": "[encoded data removed]",
      "text/plain": [
       "<Figure size 432x288 with 1 Axes>"
      ]
     },
     "metadata": {
      "needs_background": "light"
     },
     "output_type": "display_data"
    }
   ],
   "source": [
    "plt.scatter(data.total_bill ,  data.tip)"
   ]
  },
  {
   "cell_type": "code",
   "execution_count": 14,
   "metadata": {},
   "outputs": [
    {
     "data": {
      "image/png": "[encoded data removed]",
      "text/plain": [
       "<Figure size 432x288 with 2 Axes>"
      ]
     },
     "metadata": {
      "needs_background": "light"
     },
     "output_type": "display_data"
    }
   ],
   "source": [
    "groupd = data.groupby('sex')\n",
    "pIndex = 221\n",
    "for key , group in groupd:\n",
    "    plt.subplot(pIndex)\n",
    "    plt.title(key)\n",
    "    plt.boxplot(group.tip)\n",
    "    pIndex = pIndex + 1"
   ]
  },
  {
   "cell_type": "code",
   "execution_count": 28,
   "metadata": {},
   "outputs": [
    {
     "data": {
      "text/plain": [
       "{'whiskers': [<matplotlib.lines.Line2D at 0x118822978>,\n",
       "  <matplotlib.lines.Line2D at 0x11a5cbd68>,\n",
       "  <matplotlib.lines.Line2D at 0x11a675c88>,\n",
       "  <matplotlib.lines.Line2D at 0x11a6979b0>],\n",
       " 'caps': [<matplotlib.lines.Line2D at 0x11870ca58>,\n",
       "  <matplotlib.lines.Line2D at 0x11870cc18>,\n",
       "  <matplotlib.lines.Line2D at 0x11870d828>,\n",
       "  <matplotlib.lines.Line2D at 0x11870deb8>],\n",
       " 'boxes': [<matplotlib.lines.Line2D at 0x11a5e95f8>,\n",
       "  <matplotlib.lines.Line2D at 0x11a69dd68>],\n",
       " 'medians': [<matplotlib.lines.Line2D at 0x11a69ed68>,\n",
       "  <matplotlib.lines.Line2D at 0x118c180f0>],\n",
       " 'fliers': [<matplotlib.lines.Line2D at 0x11a69db38>,\n",
       "  <matplotlib.lines.Line2D at 0x11a689c88>],\n",
       " 'means': []}"
      ]
     },
     "execution_count": 28,
     "metadata": {},
     "output_type": "execute_result"
    },
    {
     "data": {
      "image/png": "[encoded data removed]",
      "text/plain": [
       "<Figure size 432x288 with 1 Axes>"
      ]
     },
     "metadata": {
      "needs_background": "light"
     },
     "output_type": "display_data"
    }
   ],
   "source": [
    "green_diamond = dict(markerfacecolor='g', marker='D')\n",
    "grouped = data.groupby('sex')\n",
    "sex_data = np.array([group.tip for key, group in grouped])\n",
    "plt.boxplot(sex_data, flierprops=green_diamond)"
   ]
  },
  {
   "cell_type": "code",
   "execution_count": 29,
   "metadata": {},
   "outputs": [
    {
     "data": {
      "text/plain": [
       "{'whiskers': [<matplotlib.lines.Line2D at 0x11a7b5b00>,\n",
       "  <matplotlib.lines.Line2D at 0x11a7b5e48>,\n",
       "  <matplotlib.lines.Line2D at 0x11a7befd0>,\n",
       "  <matplotlib.lines.Line2D at 0x11a7c15c0>],\n",
       " 'caps': [<matplotlib.lines.Line2D at 0x11a7b5f28>,\n",
       "  <matplotlib.lines.Line2D at 0x11a7be518>,\n",
       "  <matplotlib.lines.Line2D at 0x11a7c1908>,\n",
       "  <matplotlib.lines.Line2D at 0x11a7c1c50>],\n",
       " 'boxes': [<matplotlib.lines.Line2D at 0x11a7b5710>,\n",
       "  <matplotlib.lines.Line2D at 0x11a7beef0>],\n",
       " 'medians': [<matplotlib.lines.Line2D at 0x11a7be860>,\n",
       "  <matplotlib.lines.Line2D at 0x11a7c1f98>],\n",
       " 'fliers': [<matplotlib.lines.Line2D at 0x11a7beba8>,\n",
       "  <matplotlib.lines.Line2D at 0x11a7bd320>],\n",
       " 'means': []}"
      ]
     },
     "execution_count": 29,
     "metadata": {},
     "output_type": "execute_result"
    },
    {
     "data": {
      "image/png": "[encoded data removed]",
      "text/plain": [
       "<Figure size 432x288 with 1 Axes>"
      ]
     },
     "metadata": {
      "needs_background": "light"
     },
     "output_type": "display_data"
    }
   ],
   "source": [
    "grouped = data.groupby('smoker')\n",
    "smoker_data = np.array([group.tip for key, group in grouped])\n",
    "plt.boxplot(sex_data, flierprops=green_diamond)"
   ]
  },
  {
   "cell_type": "code",
   "execution_count": 14,
   "metadata": {},
   "outputs": [
    {
     "data": {
      "text/plain": [
       "day\n",
       "Thur    62\n",
       "Fri     19\n",
       "Sat     87\n",
       "Sun     76\n",
       "dtype: int64"
      ]
     },
     "execution_count": 14,
     "metadata": {},
     "output_type": "execute_result"
    }
   ],
   "source": [
    "# data['day']=='Sun'\n",
    "group_by_day = data.groupby(['day'])\n",
    "group_by_day.size()"
   ]
  },
  {
   "cell_type": "code",
   "execution_count": 34,
   "metadata": {},
   "outputs": [
    {
     "data": {
      "text/plain": [
       "(244, 1)"
      ]
     },
     "execution_count": 34,
     "metadata": {},
     "output_type": "execute_result"
    }
   ],
   "source": [
    "week_data = data[['day']].copy()\n",
    "# week_data['weekend'] = np.where(data['day']=='Sun' | data['day']=='Sat', True, False)\n",
    "# week_data['weekend'] = week_data[(week_data=='Sun')|(week_data=='Sat')]\n",
    "#week_data.head()\n",
    "#type((week_data=='Sun')|(week_data=='Sat'))\n",
    "(week_data=='Sun').shape"
   ]
  },
  {
   "cell_type": "code",
   "execution_count": 38,
   "metadata": {},
   "outputs": [
    {
     "name": "stdout",
     "output_type": "stream",
     "text": [
      "<class 'pandas.core.frame.DataFrame'>\n",
      "<class 'pandas.core.series.Series'>\n"
     ]
    }
   ],
   "source": [
    "print(type(week_data))\n",
    "print(type(week_data['day']))"
   ]
  },
  {
   "cell_type": "code",
   "execution_count": 39,
   "metadata": {},
   "outputs": [
    {
     "data": {
      "text/plain": [
       "pandas.core.series.Series"
      ]
     },
     "execution_count": 39,
     "metadata": {},
     "output_type": "execute_result"
    }
   ],
   "source": [
    "type((week_data['day']=='Sun')|(week_data['day']=='Sat'))"
   ]
  },
  {
   "cell_type": "code",
   "execution_count": 42,
   "metadata": {},
   "outputs": [
    {
     "data": {
      "text/html": [
       "<div>\n",
       "<style scoped>\n",
       "    .dataframe tbody tr th:only-of-type {\n",
       "        vertical-align: middle;\n",
       "    }\n",
       "\n",
       "    .dataframe tbody tr th {\n",
       "        vertical-align: top;\n",
       "    }\n",
       "\n",
       "    .dataframe thead th {\n",
       "        text-align: right;\n",
       "    }\n",
       "</style>\n",
       "<table border=\"1\" class=\"dataframe\">\n",
       "  <thead>\n",
       "    <tr style=\"text-align: right;\">\n",
       "      <th></th>\n",
       "      <th>day</th>\n",
       "      <th>tip</th>\n",
       "      <th>weekend</th>\n",
       "    </tr>\n",
       "  </thead>\n",
       "  <tbody>\n",
       "    <tr>\n",
       "      <th>0</th>\n",
       "      <td>Sun</td>\n",
       "      <td>1.01</td>\n",
       "      <td>True</td>\n",
       "    </tr>\n",
       "    <tr>\n",
       "      <th>1</th>\n",
       "      <td>Sun</td>\n",
       "      <td>1.66</td>\n",
       "      <td>True</td>\n",
       "    </tr>\n",
       "    <tr>\n",
       "      <th>2</th>\n",
       "      <td>Sun</td>\n",
       "      <td>3.50</td>\n",
       "      <td>True</td>\n",
       "    </tr>\n",
       "    <tr>\n",
       "      <th>3</th>\n",
       "      <td>Sun</td>\n",
       "      <td>3.31</td>\n",
       "      <td>True</td>\n",
       "    </tr>\n",
       "    <tr>\n",
       "      <th>4</th>\n",
       "      <td>Sun</td>\n",
       "      <td>3.61</td>\n",
       "      <td>True</td>\n",
       "    </tr>\n",
       "  </tbody>\n",
       "</table>\n",
       "</div>"
      ],
      "text/plain": [
       "   day   tip  weekend\n",
       "0  Sun  1.01     True\n",
       "1  Sun  1.66     True\n",
       "2  Sun  3.50     True\n",
       "3  Sun  3.31     True\n",
       "4  Sun  3.61     True"
      ]
     },
     "execution_count": 42,
     "metadata": {},
     "output_type": "execute_result"
    }
   ],
   "source": [
    "week_data = data[['day', 'tip']].copy()\n",
    "week_data['weekend'] = (week_data['day']=='Sun')|(week_data['day']=='Sat')\n",
    "week_data.head()"
   ]
  },
  {
   "cell_type": "code",
   "execution_count": 52,
   "metadata": {},
   "outputs": [
    {
     "data": {
      "text/plain": [
       "<matplotlib.legend.Legend at 0x122271668>"
      ]
     },
     "execution_count": 52,
     "metadata": {},
     "output_type": "execute_result"
    },
    {
     "data": {
      "image/png": "[encoded data removed]",
      "text/plain": [
       "<Figure size 432x288 with 1 Axes>"
      ]
     },
     "metadata": {
      "needs_background": "light"
     },
     "output_type": "display_data"
    }
   ],
   "source": [
    "green_diamond = dict(markerfacecolor='g', marker='D')\n",
    "grouped = week_data.groupby('weekend')\n",
    "wk_data = np.array([group.tip for key, group in grouped])\n",
    "plt.boxplot(wk_data, flierprops=green_diamond, notch=True)\n",
    "plt.legend(['1-weekday','2-weekend'])"
   ]
  },
  {
   "cell_type": "code",
   "execution_count": 45,
   "metadata": {},
   "outputs": [
    {
     "data": {
      "text/plain": [
       "weekend\n",
       "False     81\n",
       "True     163\n",
       "dtype: int64"
      ]
     },
     "execution_count": 45,
     "metadata": {},
     "output_type": "execute_result"
    }
   ],
   "source": [
    "grouped.size()"
   ]
  },
  {
   "cell_type": "markdown",
   "metadata": {},
   "source": [
    "## 午饭和晚饭，哪一顿顾客更愿意给小费（分类箱式图）"
   ]
  },
  {
   "cell_type": "code",
   "execution_count": 54,
   "metadata": {},
   "outputs": [
    {
     "data": {
      "text/plain": [
       "time\n",
       "Lunch      68\n",
       "Dinner    176\n",
       "dtype: int64"
      ]
     },
     "execution_count": 54,
     "metadata": {},
     "output_type": "execute_result"
    }
   ],
   "source": [
    "data.groupby('time').size()"
   ]
  },
  {
   "cell_type": "code",
   "execution_count": 56,
   "metadata": {},
   "outputs": [
    {
     "data": {
      "text/plain": [
       "<matplotlib.legend.Legend at 0x1222c8c50>"
      ]
     },
     "execution_count": 56,
     "metadata": {},
     "output_type": "execute_result"
    },
    {
     "data": {
      "image/png": "[encoded data removed]",
      "text/plain": [
       "<Figure size 432x288 with 1 Axes>"
      ]
     },
     "metadata": {
      "needs_background": "light"
     },
     "output_type": "display_data"
    }
   ],
   "source": [
    "grouped = data.groupby('time')\n",
    "meal_data = np.array([group.tip for key, group in grouped])\n",
    "plt.boxplot(meal_data, flierprops=green_diamond, notch=True)\n",
    "plt.legend(['1-Lunch','2-Dinner'])"
   ]
  },
  {
   "cell_type": "markdown",
   "metadata": {},
   "source": [
    "## 就餐人数是否会对慷慨度产生影响（分类箱式图）"
   ]
  },
  {
   "cell_type": "code",
   "execution_count": 58,
   "metadata": {},
   "outputs": [
    {
     "data": {
      "text/plain": [
       "size\n",
       "1      4\n",
       "2    156\n",
       "3     38\n",
       "4     37\n",
       "5      5\n",
       "6      4\n",
       "dtype: int64"
      ]
     },
     "execution_count": 58,
     "metadata": {},
     "output_type": "execute_result"
    }
   ],
   "source": [
    "data.groupby('size').size()"
   ]
  },
  {
   "cell_type": "code",
   "execution_count": 59,
   "metadata": {},
   "outputs": [
    {
     "data": {
      "text/plain": [
       "{'whiskers': [<matplotlib.lines.Line2D at 0x1225dada0>,\n",
       "  <matplotlib.lines.Line2D at 0x1225dad68>,\n",
       "  <matplotlib.lines.Line2D at 0x1225ea518>,\n",
       "  <matplotlib.lines.Line2D at 0x1225ea860>,\n",
       "  <matplotlib.lines.Line2D at 0x1225f5c50>,\n",
       "  <matplotlib.lines.Line2D at 0x1225f5f98>,\n",
       "  <matplotlib.lines.Line2D at 0x1226093c8>,\n",
       "  <matplotlib.lines.Line2D at 0x122609710>,\n",
       "  <matplotlib.lines.Line2D at 0x122614b00>,\n",
       "  <matplotlib.lines.Line2D at 0x122614e48>,\n",
       "  <matplotlib.lines.Line2D at 0x12261beb8>,\n",
       "  <matplotlib.lines.Line2D at 0x1226285c0>],\n",
       " 'caps': [<matplotlib.lines.Line2D at 0x1225df470>,\n",
       "  <matplotlib.lines.Line2D at 0x1225df7b8>,\n",
       "  <matplotlib.lines.Line2D at 0x1225eaba8>,\n",
       "  <matplotlib.lines.Line2D at 0x1225eaef0>,\n",
       "  <matplotlib.lines.Line2D at 0x1225f5f60>,\n",
       "  <matplotlib.lines.Line2D at 0x1225fd668>,\n",
       "  <matplotlib.lines.Line2D at 0x122609a58>,\n",
       "  <matplotlib.lines.Line2D at 0x122609da0>,\n",
       "  <matplotlib.lines.Line2D at 0x122614e10>,\n",
       "  <matplotlib.lines.Line2D at 0x12261b518>,\n",
       "  <matplotlib.lines.Line2D at 0x122628908>,\n",
       "  <matplotlib.lines.Line2D at 0x122628c50>],\n",
       " 'boxes': [<matplotlib.lines.Line2D at 0x1225d2c50>,\n",
       "  <matplotlib.lines.Line2D at 0x1225dfef0>,\n",
       "  <matplotlib.lines.Line2D at 0x1225f5908>,\n",
       "  <matplotlib.lines.Line2D at 0x1225fdfd0>,\n",
       "  <matplotlib.lines.Line2D at 0x1226147b8>,\n",
       "  <matplotlib.lines.Line2D at 0x12261bef0>],\n",
       " 'medians': [<matplotlib.lines.Line2D at 0x1225dfb00>,\n",
       "  <matplotlib.lines.Line2D at 0x1225eaeb8>,\n",
       "  <matplotlib.lines.Line2D at 0x1225fd9b0>,\n",
       "  <matplotlib.lines.Line2D at 0x122609d68>,\n",
       "  <matplotlib.lines.Line2D at 0x12261b860>,\n",
       "  <matplotlib.lines.Line2D at 0x122628f98>],\n",
       " 'fliers': [<matplotlib.lines.Line2D at 0x1225dfe48>,\n",
       "  <matplotlib.lines.Line2D at 0x1225f55c0>,\n",
       "  <matplotlib.lines.Line2D at 0x1225fdcf8>,\n",
       "  <matplotlib.lines.Line2D at 0x122614470>,\n",
       "  <matplotlib.lines.Line2D at 0x12261bba8>,\n",
       "  <matplotlib.lines.Line2D at 0x122628f60>],\n",
       " 'means': []}"
      ]
     },
     "execution_count": 59,
     "metadata": {},
     "output_type": "execute_result"
    },
    {
     "data": {
      "image/png": "[encoded data removed]",
      "text/plain": [
       "<Figure size 432x288 with 1 Axes>"
      ]
     },
     "metadata": {
      "needs_background": "light"
     },
     "output_type": "display_data"
    }
   ],
   "source": [
    "grouped = data.groupby('size')\n",
    "size_data = np.array([group.tip for key, group in grouped])\n",
    "plt.boxplot(size_data, flierprops=green_diamond, notch=True)"
   ]
  },
  {
   "cell_type": "code",
   "execution_count": 60,
   "metadata": {},
   "outputs": [
    {
     "data": {
      "text/html": [
       "<div>\n",
       "<style scoped>\n",
       "    .dataframe tbody tr th:only-of-type {\n",
       "        vertical-align: middle;\n",
       "    }\n",
       "\n",
       "    .dataframe tbody tr th {\n",
       "        vertical-align: top;\n",
       "    }\n",
       "\n",
       "    .dataframe thead th {\n",
       "        text-align: right;\n",
       "    }\n",
       "</style>\n",
       "<table border=\"1\" class=\"dataframe\">\n",
       "  <thead>\n",
       "    <tr style=\"text-align: right;\">\n",
       "      <th></th>\n",
       "      <th>total_bill</th>\n",
       "      <th>tip</th>\n",
       "      <th>sex</th>\n",
       "      <th>smoker</th>\n",
       "      <th>day</th>\n",
       "      <th>time</th>\n",
       "      <th>size</th>\n",
       "    </tr>\n",
       "  </thead>\n",
       "  <tbody>\n",
       "    <tr>\n",
       "      <th>142</th>\n",
       "      <td>41.19</td>\n",
       "      <td>5.00</td>\n",
       "      <td>Male</td>\n",
       "      <td>No</td>\n",
       "      <td>Thur</td>\n",
       "      <td>Lunch</td>\n",
       "      <td>5</td>\n",
       "    </tr>\n",
       "    <tr>\n",
       "      <th>155</th>\n",
       "      <td>29.85</td>\n",
       "      <td>5.14</td>\n",
       "      <td>Female</td>\n",
       "      <td>No</td>\n",
       "      <td>Sun</td>\n",
       "      <td>Dinner</td>\n",
       "      <td>5</td>\n",
       "    </tr>\n",
       "    <tr>\n",
       "      <th>185</th>\n",
       "      <td>20.69</td>\n",
       "      <td>5.00</td>\n",
       "      <td>Male</td>\n",
       "      <td>No</td>\n",
       "      <td>Sun</td>\n",
       "      <td>Dinner</td>\n",
       "      <td>5</td>\n",
       "    </tr>\n",
       "    <tr>\n",
       "      <th>187</th>\n",
       "      <td>30.46</td>\n",
       "      <td>2.00</td>\n",
       "      <td>Male</td>\n",
       "      <td>Yes</td>\n",
       "      <td>Sun</td>\n",
       "      <td>Dinner</td>\n",
       "      <td>5</td>\n",
       "    </tr>\n",
       "    <tr>\n",
       "      <th>216</th>\n",
       "      <td>28.15</td>\n",
       "      <td>3.00</td>\n",
       "      <td>Male</td>\n",
       "      <td>Yes</td>\n",
       "      <td>Sat</td>\n",
       "      <td>Dinner</td>\n",
       "      <td>5</td>\n",
       "    </tr>\n",
       "  </tbody>\n",
       "</table>\n",
       "</div>"
      ],
      "text/plain": [
       "     total_bill   tip     sex smoker   day    time  size\n",
       "142       41.19  5.00    Male     No  Thur   Lunch     5\n",
       "155       29.85  5.14  Female     No   Sun  Dinner     5\n",
       "185       20.69  5.00    Male     No   Sun  Dinner     5\n",
       "187       30.46  2.00    Male    Yes   Sun  Dinner     5\n",
       "216       28.15  3.00    Male    Yes   Sat  Dinner     5"
      ]
     },
     "execution_count": 60,
     "metadata": {},
     "output_type": "execute_result"
    }
   ],
   "source": [
    "data[data['size']==5]"
   ]
  },
  {
   "cell_type": "markdown",
   "metadata": {},
   "source": [
    "## 性别+抽烟的组合因素对慷慨度的影响（分组柱状图）"
   ]
  },
  {
   "cell_type": "code",
   "execution_count": 63,
   "metadata": {},
   "outputs": [
    {
     "data": {
      "text/plain": [
       "sex     smoker\n",
       "Male    Yes       60\n",
       "        No        97\n",
       "Female  Yes       33\n",
       "        No        54\n",
       "dtype: int64"
      ]
     },
     "execution_count": 63,
     "metadata": {},
     "output_type": "execute_result"
    }
   ],
   "source": [
    "data.groupby(['sex','smoker']).size()"
   ]
  },
  {
   "cell_type": "code",
   "execution_count": 79,
   "metadata": {},
   "outputs": [
    {
     "name": "stdout",
     "output_type": "stream",
     "text": [
      "Male Yes 3.051166666666667\n",
      "Male No 3.11340206185567\n",
      "Female Yes 2.9315151515151516\n",
      "Female No 2.7735185185185185\n"
     ]
    },
    {
     "data": {
      "text/plain": [
       "<matplotlib.legend.Legend at 0x122960c18>"
      ]
     },
     "execution_count": 79,
     "metadata": {},
     "output_type": "execute_result"
    },
    {
     "data": {
      "image/png": "[encoded data removed]",
      "text/plain": [
       "<Figure size 432x288 with 1 Axes>"
      ]
     },
     "metadata": {
      "needs_background": "light"
     },
     "output_type": "display_data"
    }
   ],
   "source": [
    "grouped = data.groupby(['sex','smoker'])\n",
    "name=['smoker','no-smoker']\n",
    "total_width, n = 0.8, 2\n",
    "width = total_width/n\n",
    "x=[0,1]\n",
    "x2=x\n",
    "for i in range(len(x)):\n",
    "    x2[i] = x[i] + width\n",
    "    \n",
    "# a=plt.bar(x, l1, width=width, label='male',fc = 'y')\n",
    "# b=plt.bar(x2, l2, width=width, label='female', tick_label=name, fc = 'r')\n",
    "#定义函数来显示柱状上的数值\n",
    "def autolabel(rects):\n",
    "    for rect in rects:\n",
    "        height = rect.get_height()\n",
    "        plt.text(rect.get_x()+rect.get_width()/2.-0.2, 1.03*height, '%s' % float(height))\n",
    "\n",
    "l1 = []\n",
    "l2 = []\n",
    "for key, group in grouped:\n",
    "    sex, is_smoker = key\n",
    "    print(sex, is_smoker, group.tip.mean())\n",
    "    if is_smoker=='Yes':\n",
    "        l1.append(group.tip.mean())\n",
    "    else:\n",
    "        l2.append(group.tip.mean())\n",
    "\n",
    "a=plt.bar(x, l1, width=width, label='male',fc = 'y')\n",
    "b=plt.bar(x2, l2, width=width, label='female', tick_label=name, fc = 'r')\n",
    "autolabel(a)\n",
    "autolabel(b)\n",
    "plt.legend()"
   ]
  },
  {
   "cell_type": "markdown",
   "metadata": {},
   "source": [
    "## 分组柱状图例子"
   ]
  },
  {
   "cell_type": "code",
   "execution_count": 81,
   "metadata": {},
   "outputs": [
    {
     "data": {
      "image/png": "[encoded data removed]",
      "text/plain": [
       "<Figure size 432x288 with 1 Axes>"
      ]
     },
     "metadata": {
      "needs_background": "light"
     },
     "output_type": "display_data"
    }
   ],
   "source": [
    "#定义函数来显示柱状上的数值\n",
    "def autolabel(rects):\n",
    "    for rect in rects:\n",
    "        height = rect.get_height()\n",
    "        plt.text(rect.get_x()+rect.get_width()/2.-0.2, 1.03*height, '%s' % float(height))\n",
    "    \n",
    "\n",
    "l1=[68, 96, 85, 86, 76, 87, 95]\n",
    "l2=[85, 68, 79, 89, 94, 82, 90]\n",
    "\n",
    "name=['A','B','C','D','E','F','E']\n",
    "total_width, n = 0.8, 2\n",
    "width = total_width / n\n",
    "x=[0,1,2,3,4,5,6]\n",
    "\n",
    "a=plt.bar(x, l1, width=width, label='Mathematic',fc = 'y')\n",
    "for i in range(len(x)):\n",
    "    x[i] = x[i] + width\n",
    "b=plt.bar(x, l2, width=width, label='Culture',tick_label = name,fc = 'r')\n",
    "\n",
    "autolabel(a)\n",
    "autolabel(b)\n",
    "\n",
    "plt.xlabel('Student')\n",
    "plt.ylabel('Score')\n",
    "plt.title('Score sheet')\n",
    "plt.legend()\n",
    "plt.show()\n"
   ]
  }
 ],
 "metadata": {
  "kernelspec": {
   "display_name": "Python 3",
   "language": "python",
   "name": "python3"
  },
  "language_info": {
   "codemirror_mode": {
    "name": "ipython",
    "version": 3
   },
   "file_extension": ".py",
   "mimetype": "text/x-python",
   "name": "python",
   "nbconvert_exporter": "python",
   "pygments_lexer": "ipython3",
   "version": "3.7.1"
  }
 },
 "nbformat": 4,
 "nbformat_minor": 2
}
