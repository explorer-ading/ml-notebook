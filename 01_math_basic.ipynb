{
 "cells": [
  {
   "cell_type": "markdown",
   "metadata": {},
   "source": [
    "# Bayesian formula\n",
    "\n",
    "\n",
    "\\begin{equation} P(A \\mid B) = \\frac{P(B \\mid A) \\, P(A)}{P(B)}  \\end{equation}\n",
    "\n"
   ]
  },
  {
   "cell_type": "markdown",
   "metadata": {},
   "source": [
    "# cross entropy loss\n",
    "\\begin{equation} H(p,q)=-\\sum _{x}p(x)\\,\\log q(x) \\end{equation}"
   ]
  },
  {
   "cell_type": "markdown",
   "metadata": {},
   "source": [
    "# softmax function\n",
    "\\begin{equation} \\sigma (\\mathbf {z} )_{j}={\\frac {e^{z_{j}}}{\\sum _{k=1}^{K}e^{z_{k}}}} for j = 1, …, K \\end{equation}"
   ]
  },
  {
   "cell_type": "markdown",
   "metadata": {},
   "source": [
    "# sigmoid function\n",
    "\\begin{equation} Sigmoid(x) = \\large \\frac{1}{1+e^{-x}} \\end{equation}"
   ]
  },
  {
   "cell_type": "markdown",
   "metadata": {},
   "source": [
    "# entropy\n",
    "\\begin{equation} H(X)=-\\sum _{i=1}^n p(x_{i})\\,\\log p(x_{i}) \\end{equation}"
   ]
  },
  {
   "cell_type": "markdown",
   "metadata": {},
   "source": [
    "## Reference\n",
    "* [handson-ml](https://github.com/ageron/handson-ml)\n",
    "* [practicalAI](https://github.com/GokuMohandas/practicalAI)\n"
   ]
  },
  {
   "cell_type": "code",
   "execution_count": null,
   "metadata": {},
   "outputs": [],
   "source": []
  }
 ],
 "metadata": {
  "kernelspec": {
   "display_name": "Python 3",
   "language": "python",
   "name": "python3"
  },
  "language_info": {
   "codemirror_mode": {
    "name": "ipython",
    "version": 3
   },
   "file_extension": ".py",
   "mimetype": "text/x-python",
   "name": "python",
   "nbconvert_exporter": "python",
   "pygments_lexer": "ipython3",
   "version": "3.7.1"
  }
 },
 "nbformat": 4,
 "nbformat_minor": 2
}
